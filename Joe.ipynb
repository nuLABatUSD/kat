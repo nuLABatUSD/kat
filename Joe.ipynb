{
 "cells": [
  {
   "cell_type": "code",
   "execution_count": 1,
   "id": "0baec005",
   "metadata": {},
   "outputs": [],
   "source": [
    "import matplotlib.pyplot as plt\n",
    "import numpy as np\n",
    "from classy import Class\n",
    "import os"
   ]
  },
  {
   "cell_type": "code",
   "execution_count": 1,
   "id": "c130b5bd",
   "metadata": {},
   "outputs": [],
   "source": [
    "import numba as nb"
   ]
  },
  {
   "cell_type": "code",
   "execution_count": 2,
   "id": "4126d3a2",
   "metadata": {},
   "outputs": [],
   "source": [
    "LambdaCDM_settings = {'omega_b':0.0223828,\n",
    "                     'Omega_m':0.309,\n",
    "                     'h':0.67810,\n",
    "                     'A_s':2.100549e-09,\n",
    "                     'n_s':0.9660499,\n",
    "                     'tau_reio':0.05430842,\n",
    "                     'output':'mPk',\n",
    "                     'P_k_max_1/Mpc':3.0,\n",
    "                     # The next line should be uncommented for higher precision (but significantly slower running)\n",
    "                     'ncdm_fluid_approximation':3,\n",
    "                     # You may uncomment this line to get more info on the ncdm sector from Class:\n",
    "                     'background_verbose':1\n",
    "                    }\n"
   ]
  },
  {
   "cell_type": "code",
   "execution_count": 3,
   "id": "0ab75c47",
   "metadata": {},
   "outputs": [],
   "source": [
    "LambdaCDM = Class()\n",
    "LambdaCDM.set(LambdaCDMsettings)\n",
    "LambdaCDM.compute()"
   ]
  },
  {
   "cell_type": "code",
   "execution_count": 4,
   "id": "b06f3143",
   "metadata": {},
   "outputs": [],
   "source": [
    "def fun3(file3,file4, msmall, normal):\n",
    "    if normal:\n",
    "        m1 = msmall\n",
    "        m2 = (m1**2 + (7.53 * 10**(-5)))**(0.5)\n",
    "        m3 = (m1**2 + (2.44 * 10**(-3)))**(0.5)\n",
    "        \n",
    "    else:\n",
    "        m3 = msmall\n",
    "        m1 = (m3**2 + (2.44 * 10**(-3)))**(0.5)\n",
    "        m2 = (m1**2 + (7.53 * 10**(-5)))**(0.5)\n",
    "        \n",
    "    data = np.load(file3)\n",
    "    e = data['eps']\n",
    "    f = data['f_nu'] \n",
    "    np.savetxt(\"spectrum\",np.column_stack([e,f]))\n",
    "\n",
    "    neutrino_mass_settings = {'N_ur':0.00441,\n",
    "                          'N_ncdm':3,\n",
    "                          'm_ncdm':'{},{},{}'.format(m1,m2,m3)\n",
    "                         }\n",
    "    spectrum_settings = {'use_ncdm_psd_files':\"1,1,1\",\n",
    "                     'ncdm_psd_filenames':\"spectrum,spectrum,spectrum\",\n",
    "                     'T_ncdm':\"0.71611,0.71611,0.71611\"}\n",
    "    \n",
    "    spectrum = Class()\n",
    "    spectrum.set(LambdaCDMsettings)\n",
    "    spectrum.set(neutrino_mass_settings)\n",
    "    spectrum.set(spectrum_settings)\n",
    "    spectrum.compute()\n",
    "    Dict_S = {'age': spectrum.age(),\n",
    "        'Neff': spectrum.Neff(),\n",
    "        'omega_b': spectrum.omega_b(),\n",
    "        'Omega0_cdm':spectrum.Omega0_cdm(),\n",
    "        'h':spectrum.h(),\n",
    "        'Omega0_k':spectrum.Omega0_k(),\n",
    "        'Omega0_m': spectrum.Omega0_m(),\n",
    "        'Omega_b': spectrum.Omega_b(),\n",
    "        'Omega_g': spectrum.Omega_g(),\n",
    "        'Omega_lambda': spectrum.Omega_Lambda(),\n",
    "        'Omega_m': spectrum.Omega_m(),\n",
    "        'Omega_r': spectrum.Omega_r(),\n",
    "        'rs_drag': spectrum.rs_drag(),\n",
    "        'Sigma8': spectrum.sigma8(),\n",
    "        'Sigma8_cb': spectrum.sigma8_cb(),\n",
    "        'T_cmb': spectrum.T_cmb(),\n",
    "        'theta_s_100': spectrum.theta_s_100(),\n",
    "        'theta_star_100': spectrum.theta_star_100(),  \n",
    "        'n_s':spectrum.n_s(),\n",
    "        'tau_reio':spectrum.tau_reio(),\n",
    "        'output':'mPk',\n",
    "         }\n",
    "    kk = np.logspace(-4,np.log10(3),1000) \n",
    "    Pk = [] \n",
    "    h = spectrum.h()\n",
    "    for k in kk:\n",
    "        Pk.append(spectrum.pk(k*h,0.)*h**3) \n",
    "    np.savez(file4,k=np.array(kk),p=np.array(Pk),Ds=Dict_S,m1=m1,m2=m2,m3=m3,M=m1+m2+m3)\n",
    "    os.remove(\"spectrum\")\n",
    "    "
   ]
  },
  {
   "cell_type": "code",
   "execution_count": 5,
   "id": "5257b0b0",
   "metadata": {},
   "outputs": [],
   "source": [
    "def newthing(spectrumfile, output):\n",
    "    fun3(spectrumfile,\"{}-norm100\".format(output),.1,True)\n",
    "    fun3(spectrumfile,\"{}-norm10\".format(output),.01,True)\n",
    "    fun3(spectrumfile,\"{}-norm1\".format(output),.001,True)\n",
    "    fun3(spectrumfile,\"{}-invert100\".format(output),.1,False)\n",
    "    fun3(spectrumfile,\"{}-invert10\".format(output),.01,False)\n",
    "    fun3(spectrumfile,\"{}-invert1\".format(output),.001,False)"
   ]
  },
  {
   "cell_type": "code",
   "execution_count": 6,
   "id": "c9505da6",
   "metadata": {},
   "outputs": [],
   "source": [
    "newthing(\"spectrum.npz\",\"LambdaCDM_mnu\")"
   ]
  },
  {
   "cell_type": "code",
   "execution_count": 24,
   "id": "fdbf4b96",
   "metadata": {},
   "outputs": [],
   "source": [
    "def delta_plot(output, LCDM):\n",
    "    models = [\"1\", \"10\", \"100\"]\n",
    "    k = []\n",
    "    p = []\n",
    "    d = []\n",
    "    \n",
    "    for i in range(len(models)):\n",
    "        data = np.load(\"{}-norm{}.npz\".format(output, models[i]), allow_pickle = True)\n",
    "        k.append(data['k'])\n",
    "        p.append(data['p'])\n",
    "        d.append(data['Ds'])\n",
    "        print(data['Ds'].item()['Neff'])\n",
    "        \n",
    "    kk = np.logspace(-4,np.log10(3),1000)\n",
    "\n",
    "    Pk_LambdaCDM = np.zeros(len(kk)) # P(k) in (Mpc/h)**3\n",
    "\n",
    "    h = LambdaCDM_settings['h'] # get reduced Hubble for conversions to 1/Mpc\n",
    "\n",
    "    for i,k in enumerate(kk):\n",
    "        Pk_LambdaCDM[i] = LCDM.pk(k*h,0.)*h**3 # function .pk(k,z)\n",
    "\n",
    "    plt.figure()\n",
    "    plt.semilogx(kk, p[0]/Pk_LambdaCDM - 1, linestyle = '--')\n",
    "    plt.semilogx(kk, p[1]/Pk_LambdaCDM - 1, linestyle = '-.')\n",
    "    plt.semilogx(kk, p[2]/Pk_LambdaCDM - 1)\n",
    "    plt.show()"
   ]
  },
  {
   "cell_type": "code",
   "execution_count": 8,
   "id": "a7954ce9",
   "metadata": {},
   "outputs": [
    {
     "data": {
      "image/png": "[encoded data removed]",
      "text/plain": [
       "<Figure size 432x288 with 1 Axes>"
      ]
     },
     "metadata": {
      "needs_background": "light"
     },
     "output_type": "display_data"
    }
   ],
   "source": [
    "delta_plot(\"LambdaCDM_mnu\", LambdaCDM)"
   ]
  },
  {
   "cell_type": "code",
   "execution_count": 6,
   "id": "bd5e6c53",
   "metadata": {},
   "outputs": [],
   "source": [
    "def fun4(file3,file4, msmall, normal):\n",
    "    if normal:\n",
    "        m1 = msmall\n",
    "        m2 = (m1**2 + (7.53 * 10**(-5)))**(0.5)\n",
    "        m3 = (m1**2 + (2.44 * 10**(-3)))**(0.5)\n",
    "        \n",
    "    else:\n",
    "        m3 = msmall\n",
    "        m1 = (m3**2 + (2.44 * 10**(-3)))**(0.5)\n",
    "        m2 = (m1**2 + (7.53 * 10**(-5)))**(0.5)\n",
    "        \n",
    "    data = np.load(file3, allow_pickle=True)\n",
    "    e = data['e'][-1]\n",
    "    f = data['fe'] [-1]\n",
    "    np.savetxt(\"spectrum\",np.column_stack([e,f * 2/(2*np.pi)**3]))\n",
    "    \n",
    "    Tncdm = 1/ (data['scalefactors'][-1] * data['temp'][-1])\n",
    "\n",
    "    neutrino_mass_settings = {'N_ur':0.00441,\n",
    "                          'N_ncdm':3,\n",
    "                          'm_ncdm':'{},{},{}'.format(m1,m2,m3)\n",
    "                         }\n",
    "    spectrum_settings = {'use_ncdm_psd_files':\"1,1,1\",\n",
    "                     'ncdm_psd_filenames':\"spectrum,spectrum,spectrum\",\n",
    "                     'T_ncdm':\"{},{},{}\".format(Tncdm,Tncdm,Tncdm),\n",
    "                        'ncdm_maximum_q':\"100,100,100\",\n",
    "                         'ncdm_quadrature_strategy':\"3,3,3\"\n",
    "                        \n",
    "                        }\n",
    "    \n",
    "    spectrum = Class()\n",
    "    spectrum.set(LambdaCDM_settings)\n",
    "    spectrum.set(neutrino_mass_settings)\n",
    "    spectrum.set(spectrum_settings)\n",
    "    spectrum.compute()\n",
    "    Dict_S = {'age': spectrum.age(),\n",
    "        'Neff': spectrum.Neff(),\n",
    "        'omega_b': spectrum.omega_b(),\n",
    "        'Omega0_cdm':spectrum.Omega0_cdm(),\n",
    "        'h':spectrum.h(),\n",
    "        'Omega0_k':spectrum.Omega0_k(),\n",
    "        'Omega0_m': spectrum.Omega0_m(),\n",
    "        'Omega_b': spectrum.Omega_b(),\n",
    "        'Omega_g': spectrum.Omega_g(),\n",
    "        'Omega_lambda': spectrum.Omega_Lambda(),\n",
    "        'Omega_m': spectrum.Omega_m(),\n",
    "        'Omega_r': spectrum.Omega_r(),\n",
    "        'rs_drag': spectrum.rs_drag(),\n",
    "        'Sigma8': spectrum.sigma8(),\n",
    "        'Sigma8_cb': spectrum.sigma8_cb(),\n",
    "        'T_cmb': spectrum.T_cmb(),\n",
    "        'theta_s_100': spectrum.theta_s_100(),\n",
    "        'theta_star_100': spectrum.theta_star_100(),  \n",
    "        'n_s':spectrum.n_s(),\n",
    "        'tau_reio':spectrum.tau_reio(),\n",
    "        'output':'mPk',\n",
    "         }\n",
    "    kk = np.logspace(-4,np.log10(3),1000) \n",
    "    Pk = [] \n",
    "    h = spectrum.h()\n",
    "    for k in kk:\n",
    "        Pk.append(spectrum.pk(k*h,0.)*h**3) \n",
    "    np.savez(file4,k=np.array(kk),p=np.array(Pk),Ds=Dict_S,m1=m1,m2=m2,m3=m3,M=m1+m2+m3)\n",
    "    os.remove(\"spectrum\")\n",
    "    "
   ]
  },
  {
   "cell_type": "code",
   "execution_count": 8,
   "id": "034e0ab9",
   "metadata": {},
   "outputs": [],
   "source": [
    "def newthing4(spectrumfile, output):\n",
    "    fun4(spectrumfile,\"{}-norm100\".format(output),.1,True)\n",
    "    #fun4(spectrumfile,\"{}-norm10\".format(output),.01,True)\n",
    "    #fun4(spectrumfile,\"{}-norm1\".format(output),.001,True)\n",
    "    #fun4(spectrumfile,\"{}-invert100\".format(output),.1,False)\n",
    "    #fun4(spectrumfile,\"{}-invert10\".format(output),.01,False)\n",
    "    #fun4(spectrumfile,\"{}-invert1\".format(output),.001,False)"
   ]
  },
  {
   "cell_type": "code",
   "execution_count": 20,
   "id": "ab76ecfd",
   "metadata": {},
   "outputs": [],
   "source": [
    "%%time\n",
    "newthing4(\"mass-300-life-0.030.npz\", \"short_lived\")"
   ]
  },
  {
   "cell_type": "code",
   "execution_count": 9,
   "id": "dde2ec18",
   "metadata": {},
   "outputs": [],
   "source": [
    "short_lived = np.load(\"mass-300-life-0.030.npz\",allow_pickle=True)"
   ]
  },
  {
   "cell_type": "code",
   "execution_count": 10,
   "id": "7f9aa554",
   "metadata": {},
   "outputs": [
    {
     "data": {
      "text/plain": [
       "['mass',\n",
       " 'mixing',\n",
       " 'lifetime',\n",
       " 'neff',\n",
       " 'scalefactors',\n",
       " 'time',\n",
       " 'temp',\n",
       " 'Tcm',\n",
       " 'e',\n",
       " 'fe',\n",
       " 'NumbDensityDist',\n",
       " 'decayrate',\n",
       " 'collisionrate',\n",
       " 'n_p_rate',\n",
       " 'n_p_rate_SM',\n",
       " 'p_n_rate',\n",
       " 'p_n_rate_SM',\n",
       " 'Hubble']"
      ]
     },
     "execution_count": 10,
     "metadata": {},
     "output_type": "execute_result"
    }
   ],
   "source": [
    "short_lived.files"
   ]
  },
  {
   "cell_type": "code",
   "execution_count": 11,
   "id": "6706c885",
   "metadata": {},
   "outputs": [
    {
     "data": {
      "text/plain": [
       "0.606538950727753"
      ]
     },
     "execution_count": 11,
     "metadata": {},
     "output_type": "execute_result"
    }
   ],
   "source": [
    "1/(short_lived['scalefactors'][-1] * short_lived['temp'][-1])"
   ]
  },
  {
   "cell_type": "code",
   "execution_count": 25,
   "id": "550d6ee4",
   "metadata": {},
   "outputs": [
    {
     "name": "stdout",
     "output_type": "stream",
     "text": [
      "3.0017865725933635\n",
      "3.0017865725933635\n",
      "3.0017865725933635\n"
     ]
    },
    {
     "data": {
      "image/png": "[encoded data removed]",
      "text/plain": [
       "<Figure size 432x288 with 1 Axes>"
      ]
     },
     "metadata": {
      "needs_background": "light"
     },
     "output_type": "display_data"
    }
   ],
   "source": [
    "delta_plot(\"short_lived\",LambdaCDM)"
   ]
  },
  {
   "cell_type": "code",
   "execution_count": 10,
   "id": "87e18653",
   "metadata": {},
   "outputs": [
    {
     "name": "stdout",
     "output_type": "stream",
     "text": [
      "CPU times: user 4h 49min 47s, sys: 2min 39s, total: 4h 52min 27s\n",
      "Wall time: 4h 52min 11s\n"
     ]
    }
   ],
   "source": [
    "%%time\n",
    "newthing4(\"mass-300-life-0.912.npz\", \"long_lived\")"
   ]
  },
  {
   "cell_type": "code",
   "execution_count": 11,
   "id": "26932970",
   "metadata": {},
   "outputs": [
    {
     "data": {
      "text/plain": [
       "['mass',\n",
       " 'mixing',\n",
       " 'lifetime',\n",
       " 'neff',\n",
       " 'scalefactors',\n",
       " 'time',\n",
       " 'temp',\n",
       " 'Tcm',\n",
       " 'e',\n",
       " 'fe',\n",
       " 'NumbDensityDist',\n",
       " 'decayrate',\n",
       " 'collisionrate',\n",
       " 'n_p_rate',\n",
       " 'n_p_rate_SM',\n",
       " 'p_n_rate',\n",
       " 'p_n_rate_SM',\n",
       " 'Hubble']"
      ]
     },
     "execution_count": 11,
     "metadata": {},
     "output_type": "execute_result"
    }
   ],
   "source": [
    "long_lived = np.load(\"mass-300-life-0.912.npz\",allow_pickle=True)\n",
    "long_lived.files"
   ]
  },
  {
   "cell_type": "code",
   "execution_count": 15,
   "id": "5c1e9db1",
   "metadata": {},
   "outputs": [],
   "source": [
    "eps=long_lived['e'][-1]\n",
    "feps = long_lived['fe'][-1]"
   ]
  },
  {
   "cell_type": "code",
   "execution_count": 25,
   "id": "9750f5ca",
   "metadata": {},
   "outputs": [
    {
     "data": {
      "text/plain": [
       "(0.0, 200.0)"
      ]
     },
     "execution_count": 25,
     "metadata": {},
     "output_type": "execute_result"
    },
    {
     "data": {
      "image/png": "[encoded data removed]",
      "text/plain": [
       "<Figure size 432x288 with 1 Axes>"
      ]
     },
     "metadata": {
      "needs_background": "light"
     },
     "output_type": "display_data"
    }
   ],
   "source": [
    "plt.figure()\n",
    "plt.plot(eps, (eps**3*feps))\n",
    "plt.xlim(0,200)"
   ]
  },
  {
   "cell_type": "code",
   "execution_count": 20,
   "id": "5a8e0db9",
   "metadata": {},
   "outputs": [
    {
     "data": {
      "text/plain": [
       "array([0.000e+00, 5.000e-01, 1.000e+00, ..., 2.692e+03, 2.694e+03,\n",
       "       2.696e+03])"
      ]
     },
     "execution_count": 20,
     "metadata": {},
     "output_type": "execute_result"
    }
   ],
   "source": [
    "eps"
   ]
  },
  {
   "cell_type": "code",
   "execution_count": 23,
   "id": "97af3a99",
   "metadata": {},
   "outputs": [
    {
     "data": {
      "text/plain": [
       "array([ 0. ,  0.5,  1. ,  1.5,  2. ,  2.5,  3. ,  3.5,  4. ,  4.5,  5. ,\n",
       "        5.5,  6. ,  6.5,  7. ,  7.5,  8. ,  8.5,  9. ,  9.5, 10. , 10.5,\n",
       "       11. , 11.5, 12. , 12.5, 13. , 13.5, 14. , 14.5, 15. , 15.5, 16. ,\n",
       "       18. ])"
      ]
     },
     "execution_count": 23,
     "metadata": {},
     "output_type": "execute_result"
    }
   ],
   "source": [
    "eps[:34]"
   ]
  },
  {
   "cell_type": "code",
   "execution_count": 27,
   "id": "bf9166ea",
   "metadata": {},
   "outputs": [
    {
     "data": {
      "text/plain": [
       "['k', 'p', 'Ds', 'm1', 'm2', 'm3', 'M']"
      ]
     },
     "execution_count": 27,
     "metadata": {},
     "output_type": "execute_result"
    }
   ],
   "source": [
    "npz = np.load(\"long_lived-norm100.npz\",allow_pickle=True)\n",
    "npz.files"
   ]
  },
  {
   "cell_type": "code",
   "execution_count": 28,
   "id": "79b78caa",
   "metadata": {},
   "outputs": [
    {
     "data": {
      "text/plain": [
       "[<matplotlib.lines.Line2D at 0x7ff6a0ca2520>]"
      ]
     },
     "execution_count": 28,
     "metadata": {},
     "output_type": "execute_result"
    },
    {
     "data": {
      "image/png": "[encoded data removed]",
      "text/plain": [
       "<Figure size 432x288 with 1 Axes>"
      ]
     },
     "metadata": {
      "needs_background": "light"
     },
     "output_type": "display_data"
    }
   ],
   "source": [
    "plt.figure()\n",
    "plt.loglog(npz['k'],npz['p'])"
   ]
  },
  {
   "cell_type": "code",
   "execution_count": 33,
   "id": "c87d4295",
   "metadata": {},
   "outputs": [
    {
     "data": {
      "text/plain": [
       "[<matplotlib.lines.Line2D at 0x7ff6a11505e0>]"
      ]
     },
     "execution_count": 33,
     "metadata": {},
     "output_type": "execute_result"
    },
    {
     "data": {
      "image/png": "[encoded data removed]",
      "text/plain": [
       "<Figure size 432x288 with 1 Axes>"
      ]
     },
     "metadata": {
      "needs_background": "light"
     },
     "output_type": "display_data"
    }
   ],
   "source": [
    "kk = np.logspace(-4,np.log10(3),1000)\n",
    "\n",
    "Pk_LambdaCDM = np.zeros(len(kk)) # P(k) in (Mpc/h)**3\n",
    "\n",
    "h = LambdaCDM_settings['h'] # get reduced Hubble for conversions to 1/Mpc\n",
    "\n",
    "for i,k in enumerate(kk):\n",
    "    Pk_LambdaCDM[i] = LambdaCDM.pk(k*h,0.)*h**3 # function .pk(k,z)\n",
    "\n",
    "plt.figure()\n",
    "plt.loglog(npz['k'],npz['p'])\n",
    "plt.loglog(kk,Pk_LambdaCDM,linestyle='--')"
   ]
  },
  {
   "cell_type": "code",
   "execution_count": 31,
   "id": "8352544b",
   "metadata": {},
   "outputs": [
    {
     "data": {
      "text/plain": [
       "[<matplotlib.lines.Line2D at 0x7ff6936e1c40>]"
      ]
     },
     "execution_count": 31,
     "metadata": {},
     "output_type": "execute_result"
    },
    {
     "data": {
      "image/png": "[encoded data removed]",
      "text/plain": [
       "<Figure size 432x288 with 1 Axes>"
      ]
     },
     "metadata": {
      "needs_background": "light"
     },
     "output_type": "display_data"
    }
   ],
   "source": [
    "plt.figure()\n",
    "plt.semilogx(kk,npz['p']/Pk_LambdaCDM-1)"
   ]
  },
  {
   "cell_type": "code",
   "execution_count": 34,
   "id": "a5652c4a",
   "metadata": {},
   "outputs": [
    {
     "data": {
      "text/plain": [
       "array({'age': 13.783487660715632, 'Neff': 2.398873050648049, 'omega_b': 0.022382800000000005, 'Omega0_cdm': 0.2576305882865917, 'h': 0.6781, 'Omega0_k': 0.0, 'Omega0_m': 0.3089989189186588, 'Omega_b': 0.04867734979810887, 'Omega_g': 5.378150968509927e-05, 'Omega_lambda': 0.6909461646258057, 'Omega_m': 0.3089989189186588, 'Omega_r': 5.491645553539315e-05, 'rs_drag': 150.87964814925684, 'Sigma8': 0.904688258457329, 'Sigma8_cb': 0.9115412075247337, 'T_cmb': 2.7255, 'theta_s_100': 1.066847182346521, 'theta_star_100': 1.0692835589773273, 'n_s': 0.9660499, 'tau_reio': 0.05430842, 'output': 'mPk'},\n",
       "      dtype=object)"
      ]
     },
     "execution_count": 34,
     "metadata": {},
     "output_type": "execute_result"
    }
   ],
   "source": [
    "npz['Ds']"
   ]
  },
  {
   "cell_type": "code",
   "execution_count": 35,
   "id": "1a781619",
   "metadata": {},
   "outputs": [
    {
     "data": {
      "text/plain": [
       "['mass',\n",
       " 'mixing',\n",
       " 'lifetime',\n",
       " 'neff',\n",
       " 'scalefactors',\n",
       " 'time',\n",
       " 'temp',\n",
       " 'Tcm',\n",
       " 'e',\n",
       " 'fe',\n",
       " 'NumbDensityDist',\n",
       " 'decayrate',\n",
       " 'collisionrate',\n",
       " 'n_p_rate',\n",
       " 'n_p_rate_SM',\n",
       " 'p_n_rate',\n",
       " 'p_n_rate_SM',\n",
       " 'Hubble']"
      ]
     },
     "execution_count": 35,
     "metadata": {},
     "output_type": "execute_result"
    }
   ],
   "source": [
    "long = np.load(\"mass-300-life-0.912.npz\",allow_pickle=True)\n",
    "long.files"
   ]
  },
  {
   "cell_type": "code",
   "execution_count": 36,
   "id": "87dfb00a",
   "metadata": {},
   "outputs": [],
   "source": [
    "eps = long['e'][-1]\n",
    "fe = long['fe'][-1]"
   ]
  },
  {
   "cell_type": "code",
   "execution_count": 53,
   "id": "8291acbe",
   "metadata": {},
   "outputs": [],
   "source": [
    "earr = np.zeros(50)\n",
    "farr = np.zeros(50)\n",
    "\n",
    "earr[:31] = eps[1:32]\n",
    "farr[:31] = fe[1:32]\n",
    "\n",
    "earr[31:] = eps[32:180:8]\n",
    "farr[31:] = fe[32:180:8]"
   ]
  },
  {
   "cell_type": "code",
   "execution_count": 55,
   "id": "70e23d9e",
   "metadata": {},
   "outputs": [
    {
     "data": {
      "text/plain": [
       "[<matplotlib.lines.Line2D at 0x7ff6a10cc160>]"
      ]
     },
     "execution_count": 55,
     "metadata": {},
     "output_type": "execute_result"
    },
    {
     "data": {
      "image/png": "[encoded data removed]",
      "text/plain": [
       "<Figure size 432x288 with 1 Axes>"
      ]
     },
     "metadata": {
      "needs_background": "light"
     },
     "output_type": "display_data"
    }
   ],
   "source": [
    "plt.figure()\n",
    "plt.semilogx(earr,earr**2*farr)\n",
    "plt.semilogx(eps, eps**2*fe)"
   ]
  },
  {
   "cell_type": "code",
   "execution_count": 42,
   "id": "63cd0e87",
   "metadata": {},
   "outputs": [
    {
     "data": {
      "text/plain": [
       "(array([  0,   1,   2,   3,   4,   5,   6,   7,   8,   9,  10,  11,  12,\n",
       "         13,  14,  15,  16,  17,  18,  19,  20,  21,  22,  23,  24,  25,\n",
       "         26,  27,  28,  29,  30,  31,  32,  33,  34,  35,  36,  37,  38,\n",
       "         39,  40,  41,  42,  43,  44,  45,  46,  47,  48,  49,  50,  51,\n",
       "         52,  53,  54,  55,  56,  57,  58,  59,  60,  61,  62,  63,  64,\n",
       "         65,  66,  67,  68,  69,  70,  71,  72,  73,  74,  75,  76,  77,\n",
       "         78,  79,  80,  81,  82,  83,  84,  85,  86,  87,  88,  89,  90,\n",
       "         91,  92,  93,  94,  95,  96,  97,  98,  99, 100, 101, 102, 103,\n",
       "        104, 105, 106, 107, 108, 109, 110, 111, 112, 113, 114, 115, 116,\n",
       "        117, 118, 119, 120, 121, 122, 123, 124, 125, 126, 127, 128, 129,\n",
       "        130, 131, 132, 133, 134, 135, 136, 137, 138, 139, 140, 141, 142,\n",
       "        143, 144, 145, 146, 147, 148, 149, 150, 151, 152, 153, 154, 155,\n",
       "        156, 157, 158, 159, 160, 161, 162, 163, 164, 165, 166, 167, 168,\n",
       "        169, 170, 171, 172, 173]),)"
      ]
     },
     "execution_count": 42,
     "metadata": {},
     "output_type": "execute_result"
    }
   ],
   "source": [
    "np.where(eps<300)"
   ]
  },
  {
   "cell_type": "code",
   "execution_count": null,
   "id": "806c5894",
   "metadata": {},
   "outputs": [],
   "source": []
  }
 ],
 "metadata": {
  "kernelspec": {
   "display_name": "Python 3 (ipykernel)",
   "language": "python",
   "name": "python3"
  },
  "language_info": {
   "codemirror_mode": {
    "name": "ipython",
    "version": 3
   },
   "file_extension": ".py",
   "mimetype": "text/x-python",
   "name": "python",
   "nbconvert_exporter": "python",
   "pygments_lexer": "ipython3",
   "version": "3.9.7"
  }
 },
 "nbformat": 4,
 "nbformat_minor": 5
}
